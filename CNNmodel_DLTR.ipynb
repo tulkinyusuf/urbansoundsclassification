{
  "nbformat": 4,
  "nbformat_minor": 0,
  "metadata": {
    "colab": {
      "provenance": []
    },
    "kernelspec": {
      "name": "python3",
      "display_name": "Python 3"
    },
    "language_info": {
      "name": "python"
    },
    "accelerator": "GPU"
  },
  "cells": [
    {
      "cell_type": "markdown",
      "source": [
        "# Urban Sounds Classification\n",
        "## Koç Holding Derin Öğrenme Bootcamp\n",
        "### DLTR takımı projesi\n",
        "### Model Hazırlanması ve Eğitimi"
      ],
      "metadata": {
        "id": "nLdqBZwQfk4L"
      }
    },
    {
      "cell_type": "code",
      "execution_count": 1,
      "metadata": {
        "id": "xF3dHvKyEgcu"
      },
      "outputs": [],
      "source": [
        "import numpy as np\n",
        "import pandas as pd\n",
        "import tensorflow as tf\n",
        "import matplotlib.pyplot as plt\n",
        "import librosa\n",
        "from keras.models import Sequential\n",
        "from keras.layers import Dense, Conv2D, Flatten, MaxPooling2D, Dropout\n",
        "from sklearn.metrics import confusion_matrix\n",
        "import seaborn as sns\n",
        "import torch, gc\n",
        "import torch.nn as nn\n",
        "import torch.nn.functional as F\n",
        "from torch.utils.data import DataLoader, Dataset\n",
        "from torchvision import transforms, models\n",
        "from torchvision.utils import make_grid"
      ]
    },
    {
      "cell_type": "code",
      "source": [
        "from google.colab import drive\n",
        "drive.mount('/content/drive')"
      ],
      "metadata": {
        "colab": {
          "base_uri": "https://localhost:8080/"
        },
        "id": "LDhUiSKtFsaJ",
        "outputId": "4c76a754-f3ee-4691-fe95-b1b970c442ae"
      },
      "execution_count": 1,
      "outputs": [
        {
          "output_type": "stream",
          "name": "stdout",
          "text": [
            "Drive already mounted at /content/drive; to attempt to forcibly remount, call drive.mount(\"/content/drive\", force_remount=True).\n"
          ]
        }
      ]
    },
    {
      "cell_type": "code",
      "source": [
        "PATH = \"/content/drive/MyDrive/Deep Learning/\""
      ],
      "metadata": {
        "id": "9GmN0oXuGFMh"
      },
      "execution_count": 2,
      "outputs": []
    },
    {
      "cell_type": "code",
      "source": [
        "X_train=pd.read_pickle(path + \"X_train\")\n",
        "X_test=pd.read_pickle(path + \"X_test\")\n",
        "X_val=pd.read_pickle(path + \"X_validation\")\n",
        "\n",
        "y_train=pd.read_pickle(path + \"y_train\")\n",
        "y_test=pd.read_pickle(path + \"y_test\")\n",
        "y_val=pd.read_pickle(path + \"y_validation\")"
      ],
      "metadata": {
        "id": "iJV93FhRF6IW"
      },
      "execution_count": 3,
      "outputs": []
    },
    {
      "cell_type": "code",
      "source": [
        "X_train = np.array([np.array(val) for val in X_train])\n",
        "X_test = np.array([np.array(val) for val in X_test])\n",
        "X_val = np.array([np.array(val) for val in X_val])\n",
        "y_train = np.array([np.array(val) for val in y_train])\n",
        "y_test = np.array([np.array(val) for val in y_test])\n",
        "y_val = np.array([np.array(val) for val in y_val])"
      ],
      "metadata": {
        "id": "kR62PVjqGRDN"
      },
      "execution_count": 4,
      "outputs": []
    },
    {
      "cell_type": "markdown",
      "source": [
        "### CNN modeli hazırlama"
      ],
      "metadata": {
        "id": "ExGZxbRPgD86"
      }
    },
    {
      "cell_type": "code",
      "source": [
        "#Processing this model\n",
        "model = Sequential()\n",
        "model.add(Conv2D(32,\n",
        "                    kernel_size = (3, 3),\n",
        "                    strides = (1, 1),\n",
        "                    padding = \"same\",\n",
        "                    activation = \"relu\",\n",
        "                    input_shape = (64, 64, 1)))\n",
        "model.add(MaxPooling2D(pool_size = (2, 2)))\n",
        "model.add(Conv2D(64,\n",
        "                   kernel_size = (3, 3),\n",
        "                   strides = (1, 1),\n",
        "                   padding = \"same\",\n",
        "                   activation = \"LeakyReLU\"))\n",
        "\n",
        "model.add(MaxPooling2D(pool_size = (2, 2)))\n",
        "model.add(Conv2D(128,\n",
        "                     kernel_size = (3, 3),\n",
        "                     strides = (1, 1),\n",
        "                     padding = \"same\",\n",
        "                     activation = \"LeakyReLU\"))\n",
        "model.add(Flatten())\n",
        "model.add(Dense(512, activation = \"relu\"))\n",
        "model.add(Dropout(0.5))\n",
        "model.add(Dense(256, activation = \"relu\"))\n",
        "model.add(Dropout(0.5))\n",
        "model.add(Dense(10, activation = \"softmax\"))"
      ],
      "metadata": {
        "id": "AhzAS4CCIU7y"
      },
      "execution_count": 5,
      "outputs": []
    },
    {
      "cell_type": "code",
      "source": [
        "model.compile(optimizer='adam', loss='sparse_categorical_crossentropy', metrics=['accuracy'])"
      ],
      "metadata": {
        "id": "3yynSFJcHNO5"
      },
      "execution_count": 6,
      "outputs": []
    },
    {
      "cell_type": "code",
      "source": [
        "model.summary()"
      ],
      "metadata": {
        "colab": {
          "base_uri": "https://localhost:8080/"
        },
        "id": "tLco0AB_Jzk1",
        "outputId": "37c27219-a1da-4fa9-dce6-55ed19f58a38"
      },
      "execution_count": 7,
      "outputs": [
        {
          "output_type": "stream",
          "name": "stdout",
          "text": [
            "Model: \"sequential\"\n",
            "_________________________________________________________________\n",
            " Layer (type)                Output Shape              Param #   \n",
            "=================================================================\n",
            " conv2d (Conv2D)             (None, 64, 64, 32)        320       \n",
            "                                                                 \n",
            " max_pooling2d (MaxPooling2D  (None, 32, 32, 32)       0         \n",
            " )                                                               \n",
            "                                                                 \n",
            " conv2d_1 (Conv2D)           (None, 32, 32, 64)        18496     \n",
            "                                                                 \n",
            " max_pooling2d_1 (MaxPooling  (None, 16, 16, 64)       0         \n",
            " 2D)                                                             \n",
            "                                                                 \n",
            " conv2d_2 (Conv2D)           (None, 16, 16, 128)       73856     \n",
            "                                                                 \n",
            " flatten (Flatten)           (None, 32768)             0         \n",
            "                                                                 \n",
            " dense (Dense)               (None, 512)               16777728  \n",
            "                                                                 \n",
            " dropout (Dropout)           (None, 512)               0         \n",
            "                                                                 \n",
            " dense_1 (Dense)             (None, 256)               131328    \n",
            "                                                                 \n",
            " dropout_1 (Dropout)         (None, 256)               0         \n",
            "                                                                 \n",
            " dense_2 (Dense)             (None, 10)                2570      \n",
            "                                                                 \n",
            "=================================================================\n",
            "Total params: 17,004,298\n",
            "Trainable params: 17,004,298\n",
            "Non-trainable params: 0\n",
            "_________________________________________________________________\n"
          ]
        }
      ]
    },
    {
      "cell_type": "markdown",
      "source": [
        "### Modeli veriyi kullanarak eğitme"
      ],
      "metadata": {
        "id": "GCciIvfCg8nA"
      }
    },
    {
      "cell_type": "code",
      "source": [
        "training = model.fit(X_train, y_train, batch_size = 256, epochs = 50, validation_data=(X_val, y_val))"
      ],
      "metadata": {
        "colab": {
          "base_uri": "https://localhost:8080/"
        },
        "id": "38Pd3z8gHQvb",
        "outputId": "24c01e01-0380-4eb8-8967-cfabe20058bb"
      },
      "execution_count": 8,
      "outputs": [
        {
          "output_type": "stream",
          "name": "stdout",
          "text": [
            "Epoch 1/50\n",
            "28/28 [==============================] - 12s 89ms/step - loss: 2.2508 - accuracy: 0.1762 - val_loss: 1.9433 - val_accuracy: 0.2646\n",
            "Epoch 2/50\n",
            "28/28 [==============================] - 1s 52ms/step - loss: 1.9750 - accuracy: 0.2517 - val_loss: 1.8531 - val_accuracy: 0.3024\n",
            "Epoch 3/50\n",
            "28/28 [==============================] - 1s 45ms/step - loss: 1.8739 - accuracy: 0.2853 - val_loss: 1.7362 - val_accuracy: 0.3482\n",
            "Epoch 4/50\n",
            "28/28 [==============================] - 1s 47ms/step - loss: 1.7440 - accuracy: 0.3374 - val_loss: 1.6143 - val_accuracy: 0.4170\n",
            "Epoch 5/50\n",
            "28/28 [==============================] - 1s 40ms/step - loss: 1.6461 - accuracy: 0.3841 - val_loss: 1.5149 - val_accuracy: 0.4582\n",
            "Epoch 6/50\n",
            "28/28 [==============================] - 1s 46ms/step - loss: 1.5260 - accuracy: 0.4329 - val_loss: 1.3815 - val_accuracy: 0.5189\n",
            "Epoch 7/50\n",
            "28/28 [==============================] - 1s 40ms/step - loss: 1.4378 - accuracy: 0.4733 - val_loss: 1.2894 - val_accuracy: 0.5246\n",
            "Epoch 8/50\n",
            "28/28 [==============================] - 1s 45ms/step - loss: 1.3105 - accuracy: 0.5254 - val_loss: 1.1916 - val_accuracy: 0.5727\n",
            "Epoch 9/50\n",
            "28/28 [==============================] - 1s 47ms/step - loss: 1.1996 - accuracy: 0.5734 - val_loss: 1.0967 - val_accuracy: 0.6117\n",
            "Epoch 10/50\n",
            "28/28 [==============================] - 1s 40ms/step - loss: 1.1258 - accuracy: 0.6020 - val_loss: 1.0089 - val_accuracy: 0.6621\n",
            "Epoch 11/50\n",
            "28/28 [==============================] - 1s 40ms/step - loss: 1.0537 - accuracy: 0.6319 - val_loss: 0.8537 - val_accuracy: 0.7148\n",
            "Epoch 12/50\n",
            "28/28 [==============================] - 1s 40ms/step - loss: 0.9752 - accuracy: 0.6687 - val_loss: 0.8570 - val_accuracy: 0.7171\n",
            "Epoch 13/50\n",
            "28/28 [==============================] - 1s 40ms/step - loss: 0.9287 - accuracy: 0.6825 - val_loss: 0.7928 - val_accuracy: 0.7514\n",
            "Epoch 14/50\n",
            "28/28 [==============================] - 1s 40ms/step - loss: 0.8744 - accuracy: 0.7062 - val_loss: 0.7055 - val_accuracy: 0.7537\n",
            "Epoch 15/50\n",
            "28/28 [==============================] - 1s 40ms/step - loss: 0.7943 - accuracy: 0.7277 - val_loss: 0.6584 - val_accuracy: 0.7812\n",
            "Epoch 16/50\n",
            "28/28 [==============================] - 1s 40ms/step - loss: 0.7737 - accuracy: 0.7397 - val_loss: 0.6617 - val_accuracy: 0.7892\n",
            "Epoch 17/50\n",
            "28/28 [==============================] - 1s 40ms/step - loss: 0.7307 - accuracy: 0.7553 - val_loss: 0.5931 - val_accuracy: 0.8076\n",
            "Epoch 18/50\n",
            "28/28 [==============================] - 1s 40ms/step - loss: 0.6801 - accuracy: 0.7705 - val_loss: 0.6276 - val_accuracy: 0.7892\n",
            "Epoch 19/50\n",
            "28/28 [==============================] - 1s 40ms/step - loss: 0.6409 - accuracy: 0.7890 - val_loss: 0.5771 - val_accuracy: 0.8225\n",
            "Epoch 20/50\n",
            "28/28 [==============================] - 1s 40ms/step - loss: 0.6258 - accuracy: 0.7900 - val_loss: 0.5490 - val_accuracy: 0.8133\n",
            "Epoch 21/50\n",
            "28/28 [==============================] - 1s 40ms/step - loss: 0.5676 - accuracy: 0.8102 - val_loss: 0.5045 - val_accuracy: 0.8270\n",
            "Epoch 22/50\n",
            "28/28 [==============================] - 1s 40ms/step - loss: 0.5598 - accuracy: 0.8145 - val_loss: 0.5218 - val_accuracy: 0.8225\n",
            "Epoch 23/50\n",
            "28/28 [==============================] - 1s 40ms/step - loss: 0.5228 - accuracy: 0.8312 - val_loss: 0.4820 - val_accuracy: 0.8385\n",
            "Epoch 24/50\n",
            "28/28 [==============================] - 1s 40ms/step - loss: 0.4959 - accuracy: 0.8346 - val_loss: 0.4532 - val_accuracy: 0.8396\n",
            "Epoch 25/50\n",
            "28/28 [==============================] - 1s 40ms/step - loss: 0.4752 - accuracy: 0.8408 - val_loss: 0.4965 - val_accuracy: 0.8362\n",
            "Epoch 26/50\n",
            "28/28 [==============================] - 1s 40ms/step - loss: 0.4666 - accuracy: 0.8444 - val_loss: 0.4284 - val_accuracy: 0.8580\n",
            "Epoch 27/50\n",
            "28/28 [==============================] - 1s 40ms/step - loss: 0.4289 - accuracy: 0.8555 - val_loss: 0.4337 - val_accuracy: 0.8511\n",
            "Epoch 28/50\n",
            "28/28 [==============================] - 1s 40ms/step - loss: 0.3979 - accuracy: 0.8704 - val_loss: 0.4097 - val_accuracy: 0.8568\n",
            "Epoch 29/50\n",
            "28/28 [==============================] - 1s 40ms/step - loss: 0.3790 - accuracy: 0.8700 - val_loss: 0.4080 - val_accuracy: 0.8671\n",
            "Epoch 30/50\n",
            "28/28 [==============================] - 1s 40ms/step - loss: 0.3826 - accuracy: 0.8723 - val_loss: 0.3941 - val_accuracy: 0.8751\n",
            "Epoch 31/50\n",
            "28/28 [==============================] - 1s 45ms/step - loss: 0.3924 - accuracy: 0.8673 - val_loss: 0.4186 - val_accuracy: 0.8614\n",
            "Epoch 32/50\n",
            "28/28 [==============================] - 1s 43ms/step - loss: 0.3434 - accuracy: 0.8838 - val_loss: 0.3783 - val_accuracy: 0.8774\n",
            "Epoch 33/50\n",
            "28/28 [==============================] - 1s 40ms/step - loss: 0.3289 - accuracy: 0.8882 - val_loss: 0.3905 - val_accuracy: 0.8774\n",
            "Epoch 34/50\n",
            "28/28 [==============================] - 1s 40ms/step - loss: 0.3238 - accuracy: 0.8918 - val_loss: 0.3639 - val_accuracy: 0.8855\n",
            "Epoch 35/50\n",
            "28/28 [==============================] - 1s 40ms/step - loss: 0.3317 - accuracy: 0.8856 - val_loss: 0.3527 - val_accuracy: 0.8889\n",
            "Epoch 36/50\n",
            "28/28 [==============================] - 1s 40ms/step - loss: 0.2935 - accuracy: 0.8985 - val_loss: 0.3665 - val_accuracy: 0.8832\n",
            "Epoch 37/50\n",
            "28/28 [==============================] - 1s 41ms/step - loss: 0.2772 - accuracy: 0.9035 - val_loss: 0.3491 - val_accuracy: 0.8877\n",
            "Epoch 38/50\n",
            "28/28 [==============================] - 1s 41ms/step - loss: 0.2529 - accuracy: 0.9147 - val_loss: 0.3428 - val_accuracy: 0.8946\n",
            "Epoch 39/50\n",
            "28/28 [==============================] - 1s 41ms/step - loss: 0.2836 - accuracy: 0.9044 - val_loss: 0.3834 - val_accuracy: 0.8809\n",
            "Epoch 40/50\n",
            "28/28 [==============================] - 1s 41ms/step - loss: 0.2579 - accuracy: 0.9140 - val_loss: 0.3682 - val_accuracy: 0.8843\n",
            "Epoch 41/50\n",
            "28/28 [==============================] - 1s 41ms/step - loss: 0.2416 - accuracy: 0.9135 - val_loss: 0.3808 - val_accuracy: 0.8832\n",
            "Epoch 42/50\n",
            "28/28 [==============================] - 1s 41ms/step - loss: 0.2405 - accuracy: 0.9178 - val_loss: 0.3554 - val_accuracy: 0.8958\n",
            "Epoch 43/50\n",
            "28/28 [==============================] - 1s 41ms/step - loss: 0.2224 - accuracy: 0.9238 - val_loss: 0.3651 - val_accuracy: 0.8889\n",
            "Epoch 44/50\n",
            "28/28 [==============================] - 1s 41ms/step - loss: 0.2148 - accuracy: 0.9278 - val_loss: 0.3624 - val_accuracy: 0.8877\n",
            "Epoch 45/50\n",
            "28/28 [==============================] - 1s 41ms/step - loss: 0.2186 - accuracy: 0.9244 - val_loss: 0.3683 - val_accuracy: 0.8877\n",
            "Epoch 46/50\n",
            "28/28 [==============================] - 1s 41ms/step - loss: 0.2133 - accuracy: 0.9277 - val_loss: 0.3573 - val_accuracy: 0.8946\n",
            "Epoch 47/50\n",
            "28/28 [==============================] - 1s 41ms/step - loss: 0.1850 - accuracy: 0.9360 - val_loss: 0.3950 - val_accuracy: 0.8843\n",
            "Epoch 48/50\n",
            "28/28 [==============================] - 1s 41ms/step - loss: 0.2117 - accuracy: 0.9261 - val_loss: 0.3335 - val_accuracy: 0.9015\n",
            "Epoch 49/50\n",
            "28/28 [==============================] - 1s 40ms/step - loss: 0.1722 - accuracy: 0.9429 - val_loss: 0.3332 - val_accuracy: 0.8855\n",
            "Epoch 50/50\n",
            "28/28 [==============================] - 1s 40ms/step - loss: 0.1568 - accuracy: 0.9485 - val_loss: 0.3549 - val_accuracy: 0.8969\n"
          ]
        }
      ]
    },
    {
      "cell_type": "markdown",
      "source": [
        "### Modelin performans metrikleri, loss ve accuracy grafikleri"
      ],
      "metadata": {
        "id": "_Z0Bv4LThVjF"
      }
    },
    {
      "cell_type": "code",
      "source": [
        "train_hist = pd.DataFrame(training.history)\n",
        "train_hist.head()"
      ],
      "metadata": {
        "colab": {
          "base_uri": "https://localhost:8080/",
          "height": 206
        },
        "id": "A-DnD9kpJXpV",
        "outputId": "3851c71f-4403-4ffa-adaf-d3f9da766455"
      },
      "execution_count": 23,
      "outputs": [
        {
          "output_type": "execute_result",
          "data": {
            "text/plain": [
              "       loss  accuracy  val_loss  val_accuracy\n",
              "0  2.250756  0.176235  1.943287      0.264605\n",
              "1  1.974978  0.251682  1.853137      0.302406\n",
              "2  1.873918  0.285326  1.736245      0.348225\n",
              "3  1.744015  0.337437  1.614291      0.416953\n",
              "4  1.646057  0.384109  1.514860      0.458190"
            ],
            "text/html": [
              "\n",
              "  <div id=\"df-b6ced64c-5403-4e03-ac0e-5d492f34bb00\">\n",
              "    <div class=\"colab-df-container\">\n",
              "      <div>\n",
              "<style scoped>\n",
              "    .dataframe tbody tr th:only-of-type {\n",
              "        vertical-align: middle;\n",
              "    }\n",
              "\n",
              "    .dataframe tbody tr th {\n",
              "        vertical-align: top;\n",
              "    }\n",
              "\n",
              "    .dataframe thead th {\n",
              "        text-align: right;\n",
              "    }\n",
              "</style>\n",
              "<table border=\"1\" class=\"dataframe\">\n",
              "  <thead>\n",
              "    <tr style=\"text-align: right;\">\n",
              "      <th></th>\n",
              "      <th>loss</th>\n",
              "      <th>accuracy</th>\n",
              "      <th>val_loss</th>\n",
              "      <th>val_accuracy</th>\n",
              "    </tr>\n",
              "  </thead>\n",
              "  <tbody>\n",
              "    <tr>\n",
              "      <th>0</th>\n",
              "      <td>2.250756</td>\n",
              "      <td>0.176235</td>\n",
              "      <td>1.943287</td>\n",
              "      <td>0.264605</td>\n",
              "    </tr>\n",
              "    <tr>\n",
              "      <th>1</th>\n",
              "      <td>1.974978</td>\n",
              "      <td>0.251682</td>\n",
              "      <td>1.853137</td>\n",
              "      <td>0.302406</td>\n",
              "    </tr>\n",
              "    <tr>\n",
              "      <th>2</th>\n",
              "      <td>1.873918</td>\n",
              "      <td>0.285326</td>\n",
              "      <td>1.736245</td>\n",
              "      <td>0.348225</td>\n",
              "    </tr>\n",
              "    <tr>\n",
              "      <th>3</th>\n",
              "      <td>1.744015</td>\n",
              "      <td>0.337437</td>\n",
              "      <td>1.614291</td>\n",
              "      <td>0.416953</td>\n",
              "    </tr>\n",
              "    <tr>\n",
              "      <th>4</th>\n",
              "      <td>1.646057</td>\n",
              "      <td>0.384109</td>\n",
              "      <td>1.514860</td>\n",
              "      <td>0.458190</td>\n",
              "    </tr>\n",
              "  </tbody>\n",
              "</table>\n",
              "</div>\n",
              "      <button class=\"colab-df-convert\" onclick=\"convertToInteractive('df-b6ced64c-5403-4e03-ac0e-5d492f34bb00')\"\n",
              "              title=\"Convert this dataframe to an interactive table.\"\n",
              "              style=\"display:none;\">\n",
              "        \n",
              "  <svg xmlns=\"http://www.w3.org/2000/svg\" height=\"24px\"viewBox=\"0 0 24 24\"\n",
              "       width=\"24px\">\n",
              "    <path d=\"M0 0h24v24H0V0z\" fill=\"none\"/>\n",
              "    <path d=\"M18.56 5.44l.94 2.06.94-2.06 2.06-.94-2.06-.94-.94-2.06-.94 2.06-2.06.94zm-11 1L8.5 8.5l.94-2.06 2.06-.94-2.06-.94L8.5 2.5l-.94 2.06-2.06.94zm10 10l.94 2.06.94-2.06 2.06-.94-2.06-.94-.94-2.06-.94 2.06-2.06.94z\"/><path d=\"M17.41 7.96l-1.37-1.37c-.4-.4-.92-.59-1.43-.59-.52 0-1.04.2-1.43.59L10.3 9.45l-7.72 7.72c-.78.78-.78 2.05 0 2.83L4 21.41c.39.39.9.59 1.41.59.51 0 1.02-.2 1.41-.59l7.78-7.78 2.81-2.81c.8-.78.8-2.07 0-2.86zM5.41 20L4 18.59l7.72-7.72 1.47 1.35L5.41 20z\"/>\n",
              "  </svg>\n",
              "      </button>\n",
              "      \n",
              "  <style>\n",
              "    .colab-df-container {\n",
              "      display:flex;\n",
              "      flex-wrap:wrap;\n",
              "      gap: 12px;\n",
              "    }\n",
              "\n",
              "    .colab-df-convert {\n",
              "      background-color: #E8F0FE;\n",
              "      border: none;\n",
              "      border-radius: 50%;\n",
              "      cursor: pointer;\n",
              "      display: none;\n",
              "      fill: #1967D2;\n",
              "      height: 32px;\n",
              "      padding: 0 0 0 0;\n",
              "      width: 32px;\n",
              "    }\n",
              "\n",
              "    .colab-df-convert:hover {\n",
              "      background-color: #E2EBFA;\n",
              "      box-shadow: 0px 1px 2px rgba(60, 64, 67, 0.3), 0px 1px 3px 1px rgba(60, 64, 67, 0.15);\n",
              "      fill: #174EA6;\n",
              "    }\n",
              "\n",
              "    [theme=dark] .colab-df-convert {\n",
              "      background-color: #3B4455;\n",
              "      fill: #D2E3FC;\n",
              "    }\n",
              "\n",
              "    [theme=dark] .colab-df-convert:hover {\n",
              "      background-color: #434B5C;\n",
              "      box-shadow: 0px 1px 3px 1px rgba(0, 0, 0, 0.15);\n",
              "      filter: drop-shadow(0px 1px 2px rgba(0, 0, 0, 0.3));\n",
              "      fill: #FFFFFF;\n",
              "    }\n",
              "  </style>\n",
              "\n",
              "      <script>\n",
              "        const buttonEl =\n",
              "          document.querySelector('#df-b6ced64c-5403-4e03-ac0e-5d492f34bb00 button.colab-df-convert');\n",
              "        buttonEl.style.display =\n",
              "          google.colab.kernel.accessAllowed ? 'block' : 'none';\n",
              "\n",
              "        async function convertToInteractive(key) {\n",
              "          const element = document.querySelector('#df-b6ced64c-5403-4e03-ac0e-5d492f34bb00');\n",
              "          const dataTable =\n",
              "            await google.colab.kernel.invokeFunction('convertToInteractive',\n",
              "                                                     [key], {});\n",
              "          if (!dataTable) return;\n",
              "\n",
              "          const docLinkHtml = 'Like what you see? Visit the ' +\n",
              "            '<a target=\"_blank\" href=https://colab.research.google.com/notebooks/data_table.ipynb>data table notebook</a>'\n",
              "            + ' to learn more about interactive tables.';\n",
              "          element.innerHTML = '';\n",
              "          dataTable['output_type'] = 'display_data';\n",
              "          await google.colab.output.renderOutput(dataTable, element);\n",
              "          const docLink = document.createElement('div');\n",
              "          docLink.innerHTML = docLinkHtml;\n",
              "          element.appendChild(docLink);\n",
              "        }\n",
              "      </script>\n",
              "    </div>\n",
              "  </div>\n",
              "  "
            ]
          },
          "metadata": {},
          "execution_count": 23
        }
      ]
    },
    {
      "cell_type": "code",
      "source": [
        "plt.figure(figsize=(20,8))\n",
        "plt.plot(train_hist[['loss','val_loss']])\n",
        "plt.legend(['loss','val_loss'])\n",
        "plt.title('Loss Per Epochs')\n",
        "plt.xlabel('Epochs')\n",
        "plt.ylabel('Loss')\n",
        "plt.show()\n",
        "\n",
        "plt.figure(figsize=(20,8))\n",
        "plt.plot(train_hist[['accuracy','val_accuracy']])\n",
        "plt.legend(['accuracy','val_accuracy'])\n",
        "plt.title('Accuracy Per Epochs')\n",
        "plt.xlabel('Epochs')\n",
        "plt.ylabel('Accuracy')\n",
        "plt.show()"
      ],
      "metadata": {
        "colab": {
          "base_uri": "https://localhost:8080/",
          "height": 728
        },
        "id": "ctrM83kHJZJF",
        "outputId": "28f25839-df9b-45ef-c4fc-0bbffb8174ed"
      },
      "execution_count": 10,
      "outputs": [
        {
          "output_type": "display_data",
          "data": {
            "text/plain": [
              "<Figure size 1440x576 with 1 Axes>"
            ],
            "image/png": "[encoded data removed]"
          },
          "metadata": {
            "needs_background": "light"
          }
        },
        {
          "output_type": "display_data",
          "data": {
            "text/plain": [
              "<Figure size 1440x576 with 1 Axes>"
            ],
            "image/png": "[encoded data removed]"
          },
          "metadata": {
            "needs_background": "light"
          }
        }
      ]
    },
    {
      "cell_type": "code",
      "source": [
        "model.evaluate(X_test , y_test)"
      ],
      "metadata": {
        "colab": {
          "base_uri": "https://localhost:8080/"
        },
        "id": "3FLTgGB5Je3r",
        "outputId": "e015cf9d-efdc-45dc-8556-78cde0e874ed"
      },
      "execution_count": 11,
      "outputs": [
        {
          "output_type": "stream",
          "name": "stdout",
          "text": [
            "28/28 [==============================] - 0s 7ms/step - loss: 0.3447 - accuracy: 0.9096\n"
          ]
        },
        {
          "output_type": "execute_result",
          "data": {
            "text/plain": [
              "[0.34465572237968445, 0.9096109867095947]"
            ]
          },
          "metadata": {},
          "execution_count": 11
        }
      ]
    },
    {
      "cell_type": "code",
      "source": [
        "# Make prediction on the reshaped sample\n",
        "prediction_result = model.predict(X_test[789].reshape(1,64,64,1))\n",
        "\n",
        "# Print the prediction result\n",
        "prediction_result"
      ],
      "metadata": {
        "colab": {
          "base_uri": "https://localhost:8080/"
        },
        "id": "LA6Oq5r7Jhul",
        "outputId": "56bfb1c3-a2a8-4277-daff-656314b13424"
      },
      "execution_count": 12,
      "outputs": [
        {
          "output_type": "execute_result",
          "data": {
            "text/plain": [
              "array([[7.0481751e-06, 6.3960515e-06, 1.6453074e-02, 9.7502536e-01,\n",
              "        1.9021581e-05, 9.4025876e-05, 1.9908455e-05, 1.3527082e-07,\n",
              "        5.6771114e-03, 2.6978934e-03]], dtype=float32)"
            ]
          },
          "metadata": {},
          "execution_count": 12
        }
      ]
    },
    {
      "cell_type": "code",
      "source": [
        "# Find the predicted class\n",
        "predicted_class = prediction_result.argmax()\n",
        "# Find the prediction probability\n",
        "prediction_probability = prediction_result.max()"
      ],
      "metadata": {
        "id": "3VpEhT19Jmmb"
      },
      "execution_count": 13,
      "outputs": []
    },
    {
      "cell_type": "code",
      "source": [
        "print(f\"This image belongs to class {predicted_class} with {prediction_probability} probability %\")"
      ],
      "metadata": {
        "colab": {
          "base_uri": "https://localhost:8080/"
        },
        "id": "Lg5B4IrTJrQc",
        "outputId": "04463675-6508-4693-a136-f8b3941d73a5"
      },
      "execution_count": 14,
      "outputs": [
        {
          "output_type": "stream",
          "name": "stdout",
          "text": [
            "This image belongs to class 3 with 0.9750253558158875 probability %\n"
          ]
        }
      ]
    },
    {
      "cell_type": "code",
      "source": [
        "y_predicted = model.predict(X_test)\n",
        "y_predicted_class = np.argmax(y_predicted, axis = 1)\n",
        "matrix = confusion_matrix(y_test, y_predicted_class)\n",
        "\n",
        "f,ax = plt.subplots(figsize=(6, 6))\n",
        "sns.heatmap(matrix, annot=True, linewidths=0.01, cmap=\"Blues\", linecolor=\"gray\", fmt= '.1f', ax=ax)\n",
        "plt.xlabel(\"Tahmin edilen\")\n",
        "plt.ylabel(\"Gerçek\")\n",
        "plt.show()"
      ],
      "metadata": {
        "colab": {
          "base_uri": "https://localhost:8080/",
          "height": 388
        },
        "id": "q2A7WTs-LJTx",
        "outputId": "33f76a27-cda9-4828-c698-c891a7f8d253"
      },
      "execution_count": 15,
      "outputs": [
        {
          "output_type": "display_data",
          "data": {
            "text/plain": [
              "<Figure size 432x432 with 2 Axes>"
            ],
            "image/png": "[encoded data removed]"
          },
          "metadata": {
            "needs_background": "light"
          }
        }
      ]
    },
    {
      "cell_type": "code",
      "source": [
        "torch.save(Sequential, './CNNmodel_DLTR.pt')"
      ],
      "metadata": {
        "id": "b1uiSZQ7Yz8A"
      },
      "execution_count": 22,
      "outputs": []
    },
    {
      "cell_type": "code",
      "source": [
        "model.save(path)"
      ],
      "metadata": {
        "colab": {
          "base_uri": "https://localhost:8080/"
        },
        "id": "T716dixNaKL3",
        "outputId": "2a28f5e8-bdf1-44dd-9421-01aaa4ea1a48"
      },
      "execution_count": 20,
      "outputs": [
        {
          "output_type": "stream",
          "name": "stderr",
          "text": [
            "WARNING:absl:Found untraced functions such as leaky_re_lu_layer_call_fn, leaky_re_lu_layer_call_and_return_conditional_losses, leaky_re_lu_1_layer_call_fn, leaky_re_lu_1_layer_call_and_return_conditional_losses while saving (showing 4 of 4). These functions will not be directly callable after loading.\n"
          ]
        }
      ]
    }
  ]
}